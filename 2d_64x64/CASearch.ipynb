{
 "cells": [
  {
   "cell_type": "code",
   "execution_count": 1,
   "metadata": {},
   "outputs": [],
   "source": [
    "%matplotlib inline\n",
    "\n",
    "import numpy as np\n",
    "import matplotlib.pyplot as plt\n",
    "\n",
    "import torch\n",
    "import torch.nn as nn\n",
    "import torch.nn.functional as F\n",
    "\n",
    "import sys\n",
    "import os\n",
    "import time\n",
    "\n",
    "from PIL import Image\n",
    "from IPython import display\n",
    "\n",
    "import umap\n",
    "import pickle\n",
    "from math import *\n",
    "import random\n",
    "\n",
    "DEVICE = \"cuda\"\n",
    "\n",
    "def tovar(x):\n",
    "    return torch.FloatTensor(x).to(DEVICE)"
   ]
  },
  {
   "cell_type": "code",
   "execution_count": 2,
   "metadata": {},
   "outputs": [],
   "source": [
    "class Node():\n",
    "    def __init__(self, k, depth, p_term, p_count, maxdepth=3):\n",
    "        super().__init__()\n",
    "        \n",
    "        self.variable = np.random.randint(k+1)\n",
    "        if self.variable == 0:\n",
    "            self.threshold = np.random.randint(k)\n",
    "        else:\n",
    "            self.threshold = np.random.choice(np.arange(9), p=p_count)\n",
    "            \n",
    "        self.operation = np.random.randint(2) # Equality, >=\n",
    "        \n",
    "        if depth == maxdepth:\n",
    "            self.children = [np.random.randint(k), np.random.randint(k)]\n",
    "        else:            \n",
    "            self.children = []\n",
    "            for i in range(2):\n",
    "                if np.random.rand()<p_term:\n",
    "                    self.children.append(np.random.randint(k))\n",
    "                else:\n",
    "                    self.children.append(Node(k,depth+1,p_term,p_count,maxdepth))\n",
    "            \n",
    "    def forward(self, x):\n",
    "        if self.operation == 0:\n",
    "            if x[self.variable] == self.threshold:\n",
    "                branch = 1\n",
    "            else:\n",
    "                branch = 0\n",
    "        elif self.operation == 1:\n",
    "            if x[self.variable] >= self.threshold:\n",
    "                branch = 1\n",
    "            else:\n",
    "                branch = 0\n",
    "        \n",
    "        child = self.children[branch]\n",
    "        \n",
    "        if isinstance(child, Node):\n",
    "            return child.forward(x)\n",
    "        else:\n",
    "            return child\n",
    "\n",
    "class EightNeighbor():\n",
    "    def __init__(self, colors):\n",
    "        self.colors = colors\n",
    "        \n",
    "        # 8 neighbor outer symmetric\n",
    "        # \n",
    "        # k (center) * 9^k (outer [0,...,8] for each color)\n",
    "        self.transitions = torch.LongTensor(np.random.randint(colors, size=(colors * 9**colors))).to(DEVICE)\n",
    "    \n",
    "    def tree_transition(self, depth, p_term, p_count):\n",
    "        tree = Node(self.colors, 1, p_term, p_count, maxdepth=depth)\n",
    "        transitions = np.zeros((self.colors * 9**self.colors))\n",
    "        \n",
    "        for i in range(self.colors * 9**self.colors):\n",
    "            idx = np.zeros((1+self.colors,)).astype(np.int32)\n",
    "            \n",
    "            mult = 1\n",
    "            idx[0] = (i//mult)%self.colors\n",
    "            mult *= self.colors\n",
    "            for k in range(self.colors):\n",
    "                idx[k+1] = (i//mult)%9\n",
    "                mult *= 9\n",
    "            \n",
    "            transitions[i] = tree.forward(idx)\n",
    "        \n",
    "        self.transitions = torch.LongTensor(transitions).to(DEVICE)\n",
    "        \n",
    "    def step(self, state):\n",
    "        XR = state.shape[0]\n",
    "        YR = state.shape[1]\n",
    "        \n",
    "        self.state = torch.LongTensor(state).to(DEVICE)\n",
    "        idx = torch.arange(XR*YR).long().to(DEVICE)\n",
    "\n",
    "        padstate = torch.cat([self.state[-1:,:], self.state, self.state[:1,:]], 0)\n",
    "        padstate = torch.cat([padstate[:,-1:], padstate, padstate[:,:1]], 1)\n",
    "\n",
    "        multiplier = int(self.colors)\n",
    "        indices = self.state.view(XR*YR).long()\n",
    "\n",
    "        histogram = torch.zeros((XR*YR, self.colors)).long().to(DEVICE)\n",
    "\n",
    "        shiftstate = padstate[:-2,1:-1].contiguous().view(XR*YR)\n",
    "        histogram[idx, shiftstate[idx]] += 1\n",
    "        shiftstate = padstate[2:,1:-1].contiguous().view(XR*YR)\n",
    "        histogram[idx, shiftstate[idx]] += 1\n",
    "        shiftstate = padstate[1:-1,:-2].contiguous().view(XR*YR)\n",
    "        histogram[idx, shiftstate[idx]] += 1\n",
    "        shiftstate = padstate[1:-1,2:].contiguous().view(XR*YR)\n",
    "        histogram[idx, shiftstate[idx]] += 1\n",
    "            \n",
    "        shiftstate = padstate[:-2,:-2].contiguous().view(XR*YR)\n",
    "        histogram[idx, shiftstate[idx]] += 1\n",
    "        shiftstate = padstate[:-2,2:].contiguous().view(XR*YR)\n",
    "        histogram[idx, shiftstate[idx]] += 1\n",
    "        shiftstate = padstate[2:,:-2].contiguous().view(XR*YR)\n",
    "        histogram[idx, shiftstate[idx]] += 1\n",
    "        shiftstate = padstate[2:,2:].contiguous().view(XR*YR)\n",
    "        histogram[idx, shiftstate[idx]] += 1\n",
    "\n",
    "        for k in range(self.colors):\n",
    "            indices += multiplier * histogram[:,k] \n",
    "            multiplier *= 9\n",
    "\n",
    "        result = self.transitions[indices].view(XR, YR)\n",
    "        \n",
    "        return result.cpu().detach().numpy()"
   ]
  },
  {
   "cell_type": "code",
   "execution_count": 3,
   "metadata": {},
   "outputs": [],
   "source": [
    "class Triplet(nn.Module):\n",
    "    def __init__(self):\n",
    "        super(Triplet,self).__init__()\n",
    "        \n",
    "        self.l1a = nn.Conv3d(3,32,5,padding=2)\n",
    "        nn.init.orthogonal_(self.l1a.weight, gain=sqrt(2))\n",
    "        self.b1a = nn.BatchNorm3d(32)\n",
    "        self.l1b = nn.Conv3d(32,32,5,padding=2)\n",
    "        self.b1b = nn.BatchNorm3d(32)\n",
    "        nn.init.orthogonal_(self.l1b.weight, gain=sqrt(2))\n",
    "        self.p1 = nn.MaxPool3d(2)\n",
    "        \n",
    "        self.l2a = nn.Conv3d(32,64,5,padding=2)\n",
    "        self.b2a = nn.BatchNorm3d(64)\n",
    "        nn.init.orthogonal_(self.l2a.weight, gain=sqrt(2))\n",
    "        self.l2b = nn.Conv3d(64,64,5,padding=2)\n",
    "        self.b2b = nn.BatchNorm3d(64)\n",
    "        nn.init.orthogonal_(self.l2b.weight, gain=sqrt(2))\n",
    "        self.p2 = nn.MaxPool3d(2)\n",
    "\n",
    "        self.l3a = nn.Conv3d(64,128,5,padding=2)\n",
    "        self.b3a = nn.BatchNorm3d(128)\n",
    "        nn.init.orthogonal_(self.l3a.weight, gain=sqrt(2))\n",
    "        self.l3b = nn.Conv3d(128,128,5,padding=2)\n",
    "        self.b3b = nn.BatchNorm3d(128)\n",
    "        nn.init.orthogonal_(self.l3b.weight, gain=sqrt(2))\n",
    "        self.p3 = nn.MaxPool3d(2)\n",
    "        \n",
    "        self.l4a = nn.Conv3d(128,256,5,padding=2)\n",
    "        self.b4a = nn.BatchNorm3d(256)\n",
    "        nn.init.orthogonal_(self.l4a.weight, gain=sqrt(2))\n",
    "        self.l4b = nn.Conv3d(256,256,5,padding=2)\n",
    "        self.b4b = nn.BatchNorm3d(256)\n",
    "        nn.init.orthogonal_(self.l4b.weight, gain=sqrt(2))\n",
    "        self.p4 = nn.MaxPool3d(2)\n",
    "        \n",
    "        self.l5 = nn.Linear(256,16,1)\n",
    "        nn.init.orthogonal_(self.l5.weight, gain=sqrt(2))\n",
    "        \n",
    "        self.optim = torch.optim.Adam(self.parameters(), lr=1e-4)\n",
    "        \n",
    "    def forward(self, x):\n",
    "        z = x\n",
    "        z = F.leaky_relu(self.l1a(z))\n",
    "        z = self.b1a(z)\n",
    "        z = F.leaky_relu(self.l1b(z))\n",
    "        z = self.b1b(z)\n",
    "        z = self.p1(z)\n",
    "        \n",
    "        z = F.leaky_relu(self.l2a(z))\n",
    "        z = self.b2a(z)\n",
    "        z = F.leaky_relu(self.l2b(z))\n",
    "        z = self.b2b(z)\n",
    "        z = self.p2(z)\n",
    "        \n",
    "        z = F.leaky_relu(self.l3a(z))\n",
    "        z = self.b3a(z)\n",
    "        z = F.leaky_relu(self.l3b(z))\n",
    "        z = self.b3b(z)\n",
    "        z = self.p3(z)\n",
    "        \n",
    "        z = F.leaky_relu(self.l4a(z))\n",
    "        z = self.b4a(z)\n",
    "        z = F.leaky_relu(self.l4b(z))\n",
    "        z = self.b4b(z)\n",
    "        z = self.p4(z).mean(4).mean(3).mean(2)\n",
    "        \n",
    "        z = self.l5(z)\n",
    "        z = z/torch.sqrt(torch.sum(z**2,1)+1e-4).unsqueeze(1)\n",
    "        \n",
    "        return z\n",
    "    \n",
    "net = Triplet().cuda()\n",
    "net.load_state_dict(torch.load(\"triplet_ca_2d_multitype2.pth\"))\n",
    "net.eval()\n",
    "\n",
    "clf = pickle.load(open(\"umap_classifier_multi_4.pkl\",\"rb\"))"
   ]
  },
  {
   "cell_type": "code",
   "execution_count": 4,
   "metadata": {},
   "outputs": [],
   "source": [
    "def generate_palette(k):\n",
    "    stop = False\n",
    "    \n",
    "    while not stop:\n",
    "        rgb = np.random.rand(k,3)\n",
    "        dist = np.sum(np.abs(rgb[np.newaxis,:,:] - rgb[:,np.newaxis,:]),axis=2)\n",
    "        dist[np.arange(k), np.arange(k)] += 10\n",
    "        mindist = np.min(dist)\n",
    "        if mindist > 0.75:\n",
    "            stop = True\n",
    "    \n",
    "    return rgb\n",
    "\n",
    "def totensor(history):\n",
    "    XR = history.shape[1]\n",
    "    YR = history.shape[0]\n",
    "    TR = history.shape[2]\n",
    "    \n",
    "    hist = history.transpose(1,0,2).reshape((XR*YR*TR))\n",
    "    \n",
    "    im = 2*rgb[hist]-0.5\n",
    "    im = im.transpose(1,0).reshape((1,3,XR,YR,TR))\n",
    "    return tovar(im)\n",
    "\n",
    "rgb = generate_palette(4)"
   ]
  },
  {
   "cell_type": "code",
   "execution_count": 34,
   "metadata": {},
   "outputs": [],
   "source": [
    "def evalFitness(params):    \n",
    "    UMIN = -20\n",
    "    UMAX = 20\n",
    "    VMIN = -20\n",
    "    VMAX = 20\n",
    "    BINS = 8\n",
    "\n",
    "    density = np.zeros((BINS,BINS))\n",
    "    \n",
    "    for i in range(50):\n",
    "        ca = EightNeighbor(4)\n",
    "        \n",
    "        depth = int(1 + 7 * (1-cos(pi * params[0]/10))/2)\n",
    "        p_term = 0 + 1*(1-cos(pi * params[1]/10))/2\n",
    "        p_count = 0 + 1 * (1-np.cos(pi * np.array(params[2:]) / 10))/2\n",
    "        p_count = p_count/np.sum(p_count)\n",
    "        \n",
    "        ca.tree_transition(depth, p_term, p_count)\n",
    "        \n",
    "        state = np.random.randint(3, size=(128,128))\n",
    "        history = np.zeros((128,128,16)).astype(np.uint8)\n",
    "        \n",
    "        for j in range(10):\n",
    "            state = ca.step(state)\n",
    "            \n",
    "        for j in range(16):\n",
    "            state = ca.step(state)\n",
    "            history[:,:,j] = state.copy()\n",
    "            \n",
    "        z = totensor(history)\n",
    "        latent = net.forward(z).cpu().detach().numpy()\n",
    "        latent = clf.transform(latent)\n",
    "\n",
    "        u = int(np.clip(BINS*(latent[0,0]-UMIN)/(UMAX-UMIN),0,BINS-1))\n",
    "        v = int(np.clip(BINS*(latent[0,1]-VMIN)/(VMAX-VMIN),0,BINS-1))\n",
    "        density[u,v] += 1.0/50.0\n",
    "    \n",
    "    H = -np.sum(density*np.log(density+1e-8))\n",
    "    \n",
    "    return H, density"
   ]
  },
  {
   "cell_type": "code",
   "execution_count": 21,
   "metadata": {},
   "outputs": [],
   "source": [
    "import cma"
   ]
  },
  {
   "cell_type": "code",
   "execution_count": 35,
   "metadata": {},
   "outputs": [
    {
     "data": {
      "image/png": "[encoded data removed]",
      "text/plain": [
       "<Figure size 576x288 with 2 Axes>"
      ]
     },
     "metadata": {},
     "output_type": "display_data"
    },
    {
     "data": {
      "application/vnd.jupyter.widget-view+json": {
       "model_id": "12ec9230837f4b5b9b59ccd7d2455841",
       "version_major": 2,
       "version_minor": 0
      },
      "text/plain": [
       "HBox(children=(IntProgress(value=0, max=11), HTML(value='')))"
      ]
     },
     "metadata": {},
     "output_type": "display_data"
    },
    {
     "ename": "KeyboardInterrupt",
     "evalue": "",
     "output_type": "error",
     "traceback": [
      "\u001b[0;31m---------------------------------------------------------------------------\u001b[0m",
      "\u001b[0;31mKeyboardInterrupt\u001b[0m                         Traceback (most recent call last)",
      "\u001b[0;32m<ipython-input-35-4208308fde70>\u001b[0m in \u001b[0;36m<module>\u001b[0;34m\u001b[0m\n\u001b[1;32m     11\u001b[0m \u001b[0;34m\u001b[0m\u001b[0m\n\u001b[1;32m     12\u001b[0m     \u001b[0;32mfor\u001b[0m \u001b[0mp\u001b[0m \u001b[0;32min\u001b[0m \u001b[0mtqdm\u001b[0m\u001b[0;34m.\u001b[0m\u001b[0mtqdm_notebook\u001b[0m\u001b[0;34m(\u001b[0m\u001b[0mparams\u001b[0m\u001b[0;34m)\u001b[0m\u001b[0;34m:\u001b[0m\u001b[0;34m\u001b[0m\u001b[0;34m\u001b[0m\u001b[0m\n\u001b[0;32m---> 13\u001b[0;31m         \u001b[0mH\u001b[0m\u001b[0;34m,\u001b[0m \u001b[0mddense\u001b[0m \u001b[0;34m=\u001b[0m \u001b[0mevalFitness\u001b[0m\u001b[0;34m(\u001b[0m\u001b[0mp\u001b[0m\u001b[0;34m)\u001b[0m\u001b[0;34m\u001b[0m\u001b[0;34m\u001b[0m\u001b[0m\n\u001b[0m\u001b[1;32m     14\u001b[0m         \u001b[0mresults\u001b[0m\u001b[0;34m.\u001b[0m\u001b[0mappend\u001b[0m\u001b[0;34m(\u001b[0m\u001b[0;34m-\u001b[0m\u001b[0mH\u001b[0m\u001b[0;34m)\u001b[0m\u001b[0;34m\u001b[0m\u001b[0;34m\u001b[0m\u001b[0m\n\u001b[1;32m     15\u001b[0m         \u001b[0mdensity\u001b[0m \u001b[0;34m=\u001b[0m \u001b[0mdensity\u001b[0m \u001b[0;34m+\u001b[0m \u001b[0mddense\u001b[0m\u001b[0;34m\u001b[0m\u001b[0;34m\u001b[0m\u001b[0m\n",
      "\u001b[0;32m<ipython-input-34-e5a5ff396427>\u001b[0m in \u001b[0;36mevalFitness\u001b[0;34m(params)\u001b[0m\n\u001b[1;32m     16\u001b[0m         \u001b[0mp_count\u001b[0m \u001b[0;34m=\u001b[0m \u001b[0mp_count\u001b[0m\u001b[0;34m/\u001b[0m\u001b[0mnp\u001b[0m\u001b[0;34m.\u001b[0m\u001b[0msum\u001b[0m\u001b[0;34m(\u001b[0m\u001b[0mp_count\u001b[0m\u001b[0;34m)\u001b[0m\u001b[0;34m\u001b[0m\u001b[0;34m\u001b[0m\u001b[0m\n\u001b[1;32m     17\u001b[0m \u001b[0;34m\u001b[0m\u001b[0m\n\u001b[0;32m---> 18\u001b[0;31m         \u001b[0mca\u001b[0m\u001b[0;34m.\u001b[0m\u001b[0mtree_transition\u001b[0m\u001b[0;34m(\u001b[0m\u001b[0mdepth\u001b[0m\u001b[0;34m,\u001b[0m \u001b[0mp_term\u001b[0m\u001b[0;34m,\u001b[0m \u001b[0mp_count\u001b[0m\u001b[0;34m)\u001b[0m\u001b[0;34m\u001b[0m\u001b[0;34m\u001b[0m\u001b[0m\n\u001b[0m\u001b[1;32m     19\u001b[0m \u001b[0;34m\u001b[0m\u001b[0m\n\u001b[1;32m     20\u001b[0m         \u001b[0mstate\u001b[0m \u001b[0;34m=\u001b[0m \u001b[0mnp\u001b[0m\u001b[0;34m.\u001b[0m\u001b[0mrandom\u001b[0m\u001b[0;34m.\u001b[0m\u001b[0mrandint\u001b[0m\u001b[0;34m(\u001b[0m\u001b[0;36m3\u001b[0m\u001b[0;34m,\u001b[0m \u001b[0msize\u001b[0m\u001b[0;34m=\u001b[0m\u001b[0;34m(\u001b[0m\u001b[0;36m64\u001b[0m\u001b[0;34m,\u001b[0m\u001b[0;36m64\u001b[0m\u001b[0;34m)\u001b[0m\u001b[0;34m)\u001b[0m\u001b[0;34m\u001b[0m\u001b[0;34m\u001b[0m\u001b[0m\n",
      "\u001b[0;32m<ipython-input-9-ae21633f5869>\u001b[0m in \u001b[0;36mtree_transition\u001b[0;34m(self, depth, p_term, p_count)\u001b[0m\n\u001b[1;32m     63\u001b[0m                 \u001b[0mmult\u001b[0m \u001b[0;34m*=\u001b[0m \u001b[0;36m9\u001b[0m\u001b[0;34m\u001b[0m\u001b[0;34m\u001b[0m\u001b[0m\n\u001b[1;32m     64\u001b[0m \u001b[0;34m\u001b[0m\u001b[0m\n\u001b[0;32m---> 65\u001b[0;31m             \u001b[0mtransitions\u001b[0m\u001b[0;34m[\u001b[0m\u001b[0mi\u001b[0m\u001b[0;34m]\u001b[0m \u001b[0;34m=\u001b[0m \u001b[0mtree\u001b[0m\u001b[0;34m.\u001b[0m\u001b[0mforward\u001b[0m\u001b[0;34m(\u001b[0m\u001b[0midx\u001b[0m\u001b[0;34m)\u001b[0m\u001b[0;34m\u001b[0m\u001b[0;34m\u001b[0m\u001b[0m\n\u001b[0m\u001b[1;32m     66\u001b[0m \u001b[0;34m\u001b[0m\u001b[0m\n\u001b[1;32m     67\u001b[0m         \u001b[0mself\u001b[0m\u001b[0;34m.\u001b[0m\u001b[0mtransitions\u001b[0m \u001b[0;34m=\u001b[0m \u001b[0mtorch\u001b[0m\u001b[0;34m.\u001b[0m\u001b[0mLongTensor\u001b[0m\u001b[0;34m(\u001b[0m\u001b[0mtransitions\u001b[0m\u001b[0;34m)\u001b[0m\u001b[0;34m.\u001b[0m\u001b[0mto\u001b[0m\u001b[0;34m(\u001b[0m\u001b[0mDEVICE\u001b[0m\u001b[0;34m)\u001b[0m\u001b[0;34m\u001b[0m\u001b[0;34m\u001b[0m\u001b[0m\n",
      "\u001b[0;32m<ipython-input-9-ae21633f5869>\u001b[0m in \u001b[0;36mforward\u001b[0;34m(self, x)\u001b[0m\n\u001b[1;32m     36\u001b[0m \u001b[0;34m\u001b[0m\u001b[0m\n\u001b[1;32m     37\u001b[0m         \u001b[0;32mif\u001b[0m \u001b[0misinstance\u001b[0m\u001b[0;34m(\u001b[0m\u001b[0mchild\u001b[0m\u001b[0;34m,\u001b[0m \u001b[0mNode\u001b[0m\u001b[0;34m)\u001b[0m\u001b[0;34m:\u001b[0m\u001b[0;34m\u001b[0m\u001b[0;34m\u001b[0m\u001b[0m\n\u001b[0;32m---> 38\u001b[0;31m             \u001b[0;32mreturn\u001b[0m \u001b[0mchild\u001b[0m\u001b[0;34m.\u001b[0m\u001b[0mforward\u001b[0m\u001b[0;34m(\u001b[0m\u001b[0mx\u001b[0m\u001b[0;34m)\u001b[0m\u001b[0;34m\u001b[0m\u001b[0;34m\u001b[0m\u001b[0m\n\u001b[0m\u001b[1;32m     39\u001b[0m         \u001b[0;32melse\u001b[0m\u001b[0;34m:\u001b[0m\u001b[0;34m\u001b[0m\u001b[0;34m\u001b[0m\u001b[0m\n\u001b[1;32m     40\u001b[0m             \u001b[0;32mreturn\u001b[0m \u001b[0mchild\u001b[0m\u001b[0;34m\u001b[0m\u001b[0;34m\u001b[0m\u001b[0m\n",
      "\u001b[0;32m<ipython-input-9-ae21633f5869>\u001b[0m in \u001b[0;36mforward\u001b[0;34m(self, x)\u001b[0m\n\u001b[1;32m     36\u001b[0m \u001b[0;34m\u001b[0m\u001b[0m\n\u001b[1;32m     37\u001b[0m         \u001b[0;32mif\u001b[0m \u001b[0misinstance\u001b[0m\u001b[0;34m(\u001b[0m\u001b[0mchild\u001b[0m\u001b[0;34m,\u001b[0m \u001b[0mNode\u001b[0m\u001b[0;34m)\u001b[0m\u001b[0;34m:\u001b[0m\u001b[0;34m\u001b[0m\u001b[0;34m\u001b[0m\u001b[0m\n\u001b[0;32m---> 38\u001b[0;31m             \u001b[0;32mreturn\u001b[0m \u001b[0mchild\u001b[0m\u001b[0;34m.\u001b[0m\u001b[0mforward\u001b[0m\u001b[0;34m(\u001b[0m\u001b[0mx\u001b[0m\u001b[0;34m)\u001b[0m\u001b[0;34m\u001b[0m\u001b[0;34m\u001b[0m\u001b[0m\n\u001b[0m\u001b[1;32m     39\u001b[0m         \u001b[0;32melse\u001b[0m\u001b[0;34m:\u001b[0m\u001b[0;34m\u001b[0m\u001b[0;34m\u001b[0m\u001b[0m\n\u001b[1;32m     40\u001b[0m             \u001b[0;32mreturn\u001b[0m \u001b[0mchild\u001b[0m\u001b[0;34m\u001b[0m\u001b[0;34m\u001b[0m\u001b[0m\n",
      "\u001b[0;32m<ipython-input-9-ae21633f5869>\u001b[0m in \u001b[0;36mforward\u001b[0;34m(self, x)\u001b[0m\n\u001b[1;32m     36\u001b[0m \u001b[0;34m\u001b[0m\u001b[0m\n\u001b[1;32m     37\u001b[0m         \u001b[0;32mif\u001b[0m \u001b[0misinstance\u001b[0m\u001b[0;34m(\u001b[0m\u001b[0mchild\u001b[0m\u001b[0;34m,\u001b[0m \u001b[0mNode\u001b[0m\u001b[0;34m)\u001b[0m\u001b[0;34m:\u001b[0m\u001b[0;34m\u001b[0m\u001b[0;34m\u001b[0m\u001b[0m\n\u001b[0;32m---> 38\u001b[0;31m             \u001b[0;32mreturn\u001b[0m \u001b[0mchild\u001b[0m\u001b[0;34m.\u001b[0m\u001b[0mforward\u001b[0m\u001b[0;34m(\u001b[0m\u001b[0mx\u001b[0m\u001b[0;34m)\u001b[0m\u001b[0;34m\u001b[0m\u001b[0;34m\u001b[0m\u001b[0m\n\u001b[0m\u001b[1;32m     39\u001b[0m         \u001b[0;32melse\u001b[0m\u001b[0;34m:\u001b[0m\u001b[0;34m\u001b[0m\u001b[0;34m\u001b[0m\u001b[0m\n\u001b[1;32m     40\u001b[0m             \u001b[0;32mreturn\u001b[0m \u001b[0mchild\u001b[0m\u001b[0;34m\u001b[0m\u001b[0;34m\u001b[0m\u001b[0m\n",
      "\u001b[0;32m<ipython-input-9-ae21633f5869>\u001b[0m in \u001b[0;36mforward\u001b[0;34m(self, x)\u001b[0m\n\u001b[1;32m     36\u001b[0m \u001b[0;34m\u001b[0m\u001b[0m\n\u001b[1;32m     37\u001b[0m         \u001b[0;32mif\u001b[0m \u001b[0misinstance\u001b[0m\u001b[0;34m(\u001b[0m\u001b[0mchild\u001b[0m\u001b[0;34m,\u001b[0m \u001b[0mNode\u001b[0m\u001b[0;34m)\u001b[0m\u001b[0;34m:\u001b[0m\u001b[0;34m\u001b[0m\u001b[0;34m\u001b[0m\u001b[0m\n\u001b[0;32m---> 38\u001b[0;31m             \u001b[0;32mreturn\u001b[0m \u001b[0mchild\u001b[0m\u001b[0;34m.\u001b[0m\u001b[0mforward\u001b[0m\u001b[0;34m(\u001b[0m\u001b[0mx\u001b[0m\u001b[0;34m)\u001b[0m\u001b[0;34m\u001b[0m\u001b[0;34m\u001b[0m\u001b[0m\n\u001b[0m\u001b[1;32m     39\u001b[0m         \u001b[0;32melse\u001b[0m\u001b[0;34m:\u001b[0m\u001b[0;34m\u001b[0m\u001b[0;34m\u001b[0m\u001b[0m\n\u001b[1;32m     40\u001b[0m             \u001b[0;32mreturn\u001b[0m \u001b[0mchild\u001b[0m\u001b[0;34m\u001b[0m\u001b[0;34m\u001b[0m\u001b[0m\n",
      "\u001b[0;32m<ipython-input-9-ae21633f5869>\u001b[0m in \u001b[0;36mforward\u001b[0;34m(self, x)\u001b[0m\n\u001b[1;32m     36\u001b[0m \u001b[0;34m\u001b[0m\u001b[0m\n\u001b[1;32m     37\u001b[0m         \u001b[0;32mif\u001b[0m \u001b[0misinstance\u001b[0m\u001b[0;34m(\u001b[0m\u001b[0mchild\u001b[0m\u001b[0;34m,\u001b[0m \u001b[0mNode\u001b[0m\u001b[0;34m)\u001b[0m\u001b[0;34m:\u001b[0m\u001b[0;34m\u001b[0m\u001b[0;34m\u001b[0m\u001b[0m\n\u001b[0;32m---> 38\u001b[0;31m             \u001b[0;32mreturn\u001b[0m \u001b[0mchild\u001b[0m\u001b[0;34m.\u001b[0m\u001b[0mforward\u001b[0m\u001b[0;34m(\u001b[0m\u001b[0mx\u001b[0m\u001b[0;34m)\u001b[0m\u001b[0;34m\u001b[0m\u001b[0;34m\u001b[0m\u001b[0m\n\u001b[0m\u001b[1;32m     39\u001b[0m         \u001b[0;32melse\u001b[0m\u001b[0;34m:\u001b[0m\u001b[0;34m\u001b[0m\u001b[0;34m\u001b[0m\u001b[0m\n\u001b[1;32m     40\u001b[0m             \u001b[0;32mreturn\u001b[0m \u001b[0mchild\u001b[0m\u001b[0;34m\u001b[0m\u001b[0;34m\u001b[0m\u001b[0m\n",
      "\u001b[0;32m<ipython-input-9-ae21633f5869>\u001b[0m in \u001b[0;36mforward\u001b[0;34m(self, x)\u001b[0m\n\u001b[1;32m     28\u001b[0m                 \u001b[0mbranch\u001b[0m \u001b[0;34m=\u001b[0m \u001b[0;36m0\u001b[0m\u001b[0;34m\u001b[0m\u001b[0;34m\u001b[0m\u001b[0m\n\u001b[1;32m     29\u001b[0m         \u001b[0;32melif\u001b[0m \u001b[0mself\u001b[0m\u001b[0;34m.\u001b[0m\u001b[0moperation\u001b[0m \u001b[0;34m==\u001b[0m \u001b[0;36m1\u001b[0m\u001b[0;34m:\u001b[0m\u001b[0;34m\u001b[0m\u001b[0;34m\u001b[0m\u001b[0m\n\u001b[0;32m---> 30\u001b[0;31m             \u001b[0;32mif\u001b[0m \u001b[0mx\u001b[0m\u001b[0;34m[\u001b[0m\u001b[0mself\u001b[0m\u001b[0;34m.\u001b[0m\u001b[0mvariable\u001b[0m\u001b[0;34m]\u001b[0m \u001b[0;34m>=\u001b[0m \u001b[0mself\u001b[0m\u001b[0;34m.\u001b[0m\u001b[0mthreshold\u001b[0m\u001b[0;34m:\u001b[0m\u001b[0;34m\u001b[0m\u001b[0;34m\u001b[0m\u001b[0m\n\u001b[0m\u001b[1;32m     31\u001b[0m                 \u001b[0mbranch\u001b[0m \u001b[0;34m=\u001b[0m \u001b[0;36m1\u001b[0m\u001b[0;34m\u001b[0m\u001b[0;34m\u001b[0m\u001b[0m\n\u001b[1;32m     32\u001b[0m             \u001b[0;32melse\u001b[0m\u001b[0;34m:\u001b[0m\u001b[0;34m\u001b[0m\u001b[0;34m\u001b[0m\u001b[0m\n",
      "\u001b[0;31mKeyboardInterrupt\u001b[0m: "
     ]
    },
    {
     "data": {
      "image/png": "[encoded data removed]",
      "text/plain": [
       "<Figure size 576x288 with 2 Axes>"
      ]
     },
     "metadata": {
      "needs_background": "light"
     },
     "output_type": "display_data"
    }
   ],
   "source": [
    "import tqdm\n",
    "\n",
    "fitness = []\n",
    "\n",
    "optim = cma.CMAEvolutionStrategy(mu, 1)\n",
    "\n",
    "for epoch in range(10000):\n",
    "    params = optim.ask()\n",
    "    results = []\n",
    "    density = np.zeros((8,8))\n",
    "    \n",
    "    for p in tqdm.tqdm_notebook(params):\n",
    "        H, ddense = evalFitness(p)\n",
    "        results.append(-H)\n",
    "        density = density + ddense\n",
    "        \n",
    "    optim.tell(params, results)\n",
    "    \n",
    "    fitness.append(np.mean(results))\n",
    "    \n",
    "    plt.clf()\n",
    "    plt.subplot(1,2,1)\n",
    "    plt.plot(fitness)\n",
    "    \n",
    "    plt.subplot(1,2,2)\n",
    "    plt.imshow(density)\n",
    "    \n",
    "    plt.gcf().set_size_inches((8,4))\n",
    "    display.clear_output(wait=True)\n",
    "    display.display(plt.gcf())\n",
    "    time.sleep(0.01)\n",
    "    "
   ]
  },
  {
   "cell_type": "code",
   "execution_count": 36,
   "metadata": {},
   "outputs": [],
   "source": [
    "def parseParams(params):\n",
    "    depth = int(1 + 7 * (1-cos(pi * params[0]/10))/2)\n",
    "    p_term = 0 + 1*(1-cos(pi * params[1]/10))/2\n",
    "    p_count = 0 + 1 * (1-np.cos(pi * np.array(params[2:]) / 10))/2\n",
    "    p_count = p_count/np.sum(p_count)\n",
    "    \n",
    "    return depth, p_term, p_count"
   ]
  },
  {
   "cell_type": "code",
   "execution_count": 37,
   "metadata": {},
   "outputs": [],
   "source": [
    "mu = np.mean(params, axis=0)"
   ]
  },
  {
   "cell_type": "code",
   "execution_count": 38,
   "metadata": {},
   "outputs": [],
   "source": [
    "d, p_t, p_c = parseParams(mu)"
   ]
  },
  {
   "cell_type": "code",
   "execution_count": 39,
   "metadata": {},
   "outputs": [
    {
     "data": {
      "text/plain": [
       "[<matplotlib.lines.Line2D at 0x7f863e4fd780>]"
      ]
     },
     "execution_count": 39,
     "metadata": {},
     "output_type": "execute_result"
    },
    {
     "data": {
      "image/png": "[encoded data removed]",
      "text/plain": [
       "<Figure size 432x288 with 1 Axes>"
      ]
     },
     "metadata": {
      "needs_background": "light"
     },
     "output_type": "display_data"
    }
   ],
   "source": [
    "plt.plot(p_c)"
   ]
  },
  {
   "cell_type": "code",
   "execution_count": 40,
   "metadata": {},
   "outputs": [
    {
     "data": {
      "text/plain": [
       "7"
      ]
     },
     "execution_count": 40,
     "metadata": {},
     "output_type": "execute_result"
    }
   ],
   "source": [
    "d"
   ]
  },
  {
   "cell_type": "code",
   "execution_count": 41,
   "metadata": {},
   "outputs": [
    {
     "data": {
      "text/plain": [
       "0.0016727503757000828"
      ]
     },
     "execution_count": 41,
     "metadata": {},
     "output_type": "execute_result"
    }
   ],
   "source": [
    "p_t"
   ]
  },
  {
   "cell_type": "code",
   "execution_count": 42,
   "metadata": {},
   "outputs": [
    {
     "data": {
      "text/plain": [
       "array([9.72736697e-06, 9.03122565e-03, 5.52199926e-03, 3.04649606e-01,\n",
       "       3.55919120e-01, 2.12032503e-01, 2.52099668e-04, 9.77000900e-02,\n",
       "       1.48836294e-02])"
      ]
     },
     "execution_count": 42,
     "metadata": {},
     "output_type": "execute_result"
    }
   ],
   "source": [
    "p_c"
   ]
  },
  {
   "cell_type": "code",
   "execution_count": null,
   "metadata": {},
   "outputs": [],
   "source": []
  }
 ],
 "metadata": {
  "kernelspec": {
   "display_name": "Python 3",
   "language": "python",
   "name": "python3"
  },
  "language_info": {
   "codemirror_mode": {
    "name": "ipython",
    "version": 3
   },
   "file_extension": ".py",
   "mimetype": "text/x-python",
   "name": "python",
   "nbconvert_exporter": "python",
   "pygments_lexer": "ipython3",
   "version": "3.6.8"
  }
 },
 "nbformat": 4,
 "nbformat_minor": 2
}
