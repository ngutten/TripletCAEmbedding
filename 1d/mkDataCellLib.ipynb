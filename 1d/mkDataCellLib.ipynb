{
 "cells": [
  {
   "cell_type": "code",
   "execution_count": 29,
   "metadata": {},
   "outputs": [],
   "source": [
    "%matplotlib inline\n",
    "\n",
    "import numpy as np\n",
    "import matplotlib.pyplot as plt\n",
    "\n",
    "import sys\n",
    "import os\n",
    "\n",
    "import cellpylib as cpl\n",
    "from PIL import Image"
   ]
  },
  {
   "cell_type": "code",
   "execution_count": 47,
   "metadata": {},
   "outputs": [],
   "source": [
    "# !rm data/ -R"
   ]
  },
  {
   "cell_type": "code",
   "execution_count": 48,
   "metadata": {},
   "outputs": [],
   "source": [
    "rgb = np.array([\n",
    "    [0,0,0],\n",
    "    [1,1,1],\n",
    "    [1,0,0],\n",
    "    [0,1,0],\n",
    "    [0,0,1],\n",
    "    [1,0,1],\n",
    "    [0,1,1],\n",
    "    [1,1,0]\n",
    "])\n",
    "\n",
    "def render(history,k):\n",
    "    counts = np.array([-np.sum(history == i) for i in range(k)])\n",
    "    ridx = np.argsort(counts)\n",
    "    idx = np.array([ np.where(ridx == i)[0][0] for i in range(k) ])\n",
    "    \n",
    "    im = np.zeros((history.shape[1], history.shape[0], 3)).astype(np.uint8)\n",
    "    for y in range(history.shape[1]):\n",
    "        for x in range(history.shape[0]):\n",
    "            im[x,y,:] = np.clip(256*rgb[idx[history[x,history.shape[1]-y-1]]],0,255).astype(np.uint8)\n",
    "    im = Image.fromarray(im)\n",
    "\n",
    "    return im"
   ]
  },
  {
   "cell_type": "code",
   "execution_count": 49,
   "metadata": {},
   "outputs": [],
   "source": [
    "for carule in range(2000):\n",
    "    directory = \"data/%.06d\" % carule\n",
    "    if not os.path.exists(directory):\n",
    "        os.mkdir(directory)"
   ]
  },
  {
   "cell_type": "code",
   "execution_count": null,
   "metadata": {},
   "outputs": [
    {
     "name": "stdout",
     "output_type": "stream",
     "text": [
      "0\n",
      "1\n",
      "2\n"
     ]
    }
   ],
   "source": [
    "for carule in range(2000):\n",
    "    print(carule)\n",
    "    k = 2 + np.random.randint(6)\n",
    "    rn = np.random.randint(int(k**(3*k-2)))\n",
    "    \n",
    "    f = open(\"data/%.06d/rule.txt\" % carule, \"w\")\n",
    "    # k, r, type, rule\n",
    "    # type: 0 = General, 1 = Totalistic\n",
    "    f.write(\"%d 1 1 %d\" % (k,rn))\n",
    "    f.close()\n",
    "    \n",
    "    for i in range(50):\n",
    "        ca = cpl.init_random(256)\n",
    "        ca = cpl.evolve(ca, timesteps=256, apply_rule=lambda n, c, t: cpl.totalistic_rule(n,k=k,rule=rn), r=1)\n",
    "        im = render(ca,k)\n",
    "        im.save(\"data/%.06d/%.06d.png\" % (carule, i))"
   ]
  },
  {
   "cell_type": "code",
   "execution_count": 16,
   "metadata": {},
   "outputs": [],
   "source": [
    "counts = [ np.sum(ca==i) for i in range(k)]"
   ]
  },
  {
   "cell_type": "code",
   "execution_count": 17,
   "metadata": {},
   "outputs": [
    {
     "data": {
      "text/plain": [
       "[684, 17904, 1839, 19412, 9959, 12341, 3397]"
      ]
     },
     "execution_count": 17,
     "metadata": {},
     "output_type": "execute_result"
    }
   ],
   "source": [
    "counts"
   ]
  },
  {
   "cell_type": "code",
   "execution_count": null,
   "metadata": {},
   "outputs": [],
   "source": []
  }
 ],
 "metadata": {
  "kernelspec": {
   "display_name": "Python 3",
   "language": "python",
   "name": "python3"
  }
 },
 "nbformat": 4,
 "nbformat_minor": 2
}
