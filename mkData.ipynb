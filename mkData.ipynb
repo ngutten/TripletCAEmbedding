{
 "cells": [
  {
   "cell_type": "code",
   "execution_count": 21,
   "metadata": {},
   "outputs": [],
   "source": [
    "%matplotlib inline\n",
    "\n",
    "import numpy as np\n",
    "import matplotlib.pyplot as plt\n",
    "\n",
    "import sys\n",
    "import os\n",
    "\n",
    "from PIL import Image"
   ]
  },
  {
   "cell_type": "code",
   "execution_count": 25,
   "metadata": {},
   "outputs": [],
   "source": [
    "for carule in range(800):\n",
    "    os.mkdir(\"data/%.06d\" % (carule))"
   ]
  },
  {
   "cell_type": "code",
   "execution_count": 23,
   "metadata": {},
   "outputs": [],
   "source": [
    "class CA():\n",
    "    def __init__(self, colors = 3, XR=128, TR = 128):\n",
    "        self.rgb = np.random.rand(colors,3)\n",
    "        self.state = np.random.randint(colors, size=(XR,)).astype(np.int32)\n",
    "        \n",
    "        self.history = np.zeros((XR,TR)).astype(np.int32)\n",
    "        self.history[:,0] = self.state\n",
    "        \n",
    "        self.colors = colors\n",
    "        self.transitions = np.random.randint(colors, size=(colors*colors*colors))\n",
    "        \n",
    "    def runca(self):\n",
    "        for t in range(self.history.shape[1]):\n",
    "            self.history[:,t] = self.state\n",
    "            neighborhoods = np.array([np.roll(self.state,-1,0), self.state, np.roll(self.state,1,0)])\n",
    "            idx = neighborhoods[0,:] + self.colors * neighborhoods[1,:] + self.colors * self.colors * neighborhoods[2,:]\n",
    "            self.state = self.transitions[idx]\n",
    "            \n",
    "    def render(self):\n",
    "        im = np.zeros((self.history.shape[1], self.history.shape[0], 3)).astype(np.uint8)\n",
    "        for y in range(self.history.shape[1]):\n",
    "            for x in range(self.history.shape[0]):\n",
    "                im[y,x,:] = np.clip(256*self.rgb[self.history[x,y]],0,255).astype(np.uint8)\n",
    "        im = Image.fromarray(im)\n",
    "        \n",
    "        return im"
   ]
  },
  {
   "cell_type": "code",
   "execution_count": null,
   "metadata": {},
   "outputs": [],
   "source": [
    "for carule in range(500):\n",
    "    if carule<200:\n",
    "        ca = CA(colors = 3)\n",
    "    else:\n",
    "        ca = CA(colors = 4)\n",
    "        \n",
    "    for example in range(50):\n",
    "        ca.rgb = np.random.rand(4,3)\n",
    "        ca.state = np.random.randint(4, size=(128,))\n",
    "        ca.runca()\n",
    "        \n",
    "        im = ca.render()\n",
    "        im.save(\"data/%.06d/%.06d.png\" % (carule, example))"
   ]
  },
  {
   "cell_type": "code",
   "execution_count": 30,
   "metadata": {},
   "outputs": [],
   "source": [
    "class TotalCA():\n",
    "    def __init__(self, colors = 3, XR=128, TR = 128):\n",
    "        self.rgb = np.random.rand(colors,3)\n",
    "        self.state = np.random.randint(colors, size=(XR,)).astype(np.int32)\n",
    "        \n",
    "        self.history = np.zeros((XR,TR)).astype(np.int32)\n",
    "        self.history[:,0] = self.state\n",
    "        \n",
    "        self.colors = colors\n",
    "        self.transitions = np.random.randint(colors, size=(4**colors))\n",
    "        \n",
    "    def runca(self):\n",
    "        for t in range(self.history.shape[1]):\n",
    "            self.history[:,t] = self.state\n",
    "            neighborhoods = np.array([np.roll(self.state,-1,0), self.state, np.roll(self.state,1,0)])\n",
    "            idx = 0\n",
    "            mult = 1\n",
    "            for i in range(self.colors):\n",
    "                idx += np.sum(neighborhoods==i, axis=0)*mult\n",
    "                mult *= 4\n",
    "            #idx = neighborhoods[0,:] + self.colors * neighborhoods[1,:] + self.colors * self.colors * neighborhoods[2,:]\n",
    "            self.state = self.transitions[idx]\n",
    "            \n",
    "    def render(self):\n",
    "        im = np.zeros((self.history.shape[1], self.history.shape[0], 3)).astype(np.uint8)\n",
    "        for y in range(self.history.shape[1]):\n",
    "            for x in range(self.history.shape[0]):\n",
    "                im[y,x,:] = np.clip(256*self.rgb[self.history[x,y]],0,255).astype(np.uint8)\n",
    "        im = Image.fromarray(im)\n",
    "        \n",
    "        return im"
   ]
  },
  {
   "cell_type": "code",
   "execution_count": null,
   "metadata": {},
   "outputs": [],
   "source": [
    "for carule in range(500,800):\n",
    "    ca = TotalCA(colors = 4)\n",
    "    for example in range(50):\n",
    "        ca.rgb = np.random.rand(4,3)\n",
    "        ca.state = np.random.randint(4, size=(128,))\n",
    "        ca.runca()\n",
    "        \n",
    "        im = ca.render()\n",
    "        im.save(\"data/%.06d/%.06d.png\" % (carule, example))"
   ]
  },
  {
   "cell_type": "code",
   "execution_count": null,
   "metadata": {},
   "outputs": [],
   "source": []
  }
 ],
 "metadata": {
  "kernelspec": {
   "display_name": "Python 3",
   "language": "python",
   "name": "python3"
  },
  "language_info": {
   "codemirror_mode": {
    "name": "ipython",
    "version": 3
   },
   "file_extension": ".py",
   "mimetype": "text/x-python",
   "name": "python",
   "nbconvert_exporter": "python",
   "pygments_lexer": "ipython3",
   "version": "3.5.2"
  }
 },
 "nbformat": 4,
 "nbformat_minor": 2
}
